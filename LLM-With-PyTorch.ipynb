{
 "cells": [
  {
   "cell_type": "code",
   "execution_count": 13,
   "metadata": {
    "collapsed": true
   },
   "outputs": [],
   "source": [
    "import torch\n",
    "from trl import SFTTrainer\n",
    "from datasets import load_dataset\n",
    "from peft import LoraConfig, get_peft_model, prepare_model_for_int8_training\n",
    "from transformers import AutoModelForCausalLM, AutoTokenizer, TrainingArguments\n",
    "import pandas as pd\n",
    "import textwrap"
   ]
  },
  {
   "cell_type": "code",
   "execution_count": 2,
   "outputs": [],
   "source": [
    "# Data set that we are using: https://huggingface.co/datasets/tatsu-lab/alpaca\n",
    "#"
   ],
   "metadata": {
    "collapsed": false
   }
  },
  {
   "cell_type": "code",
   "execution_count": 6,
   "outputs": [
    {
     "name": "stdout",
     "output_type": "stream",
     "text": [
      "Dataset({\n",
      "    features: ['instruction', 'input', 'output', 'text'],\n",
      "    num_rows: 52002\n",
      "})\n"
     ]
    }
   ],
   "source": [
    "train_dataset = load_dataset(\"tatsu-lab/alpaca\", split=\"train\")\n",
    "train_dataset"
   ],
   "metadata": {
    "collapsed": false
   }
  },
  {
   "cell_type": "code",
   "execution_count": 12,
   "outputs": [
    {
     "data": {
      "text/plain": "                                         instruction input  \\\n0               Give three tips for staying healthy.         \n1                 What are the three primary colors?         \n2                 Describe the structure of an atom.         \n3                   How can we reduce air pollution?         \n4  Describe a time when you had to make a difficu...         \n\n                                              output  \\\n0  1.Eat a balanced diet and make sure to include...   \n1  The three primary colors are red, blue, and ye...   \n2  An atom is made up of a nucleus, which contain...   \n3  There are a number of ways to reduce air pollu...   \n4  I had to make a difficult decision when I was ...   \n\n                                                text  \n0  Below is an instruction that describes a task....  \n1  Below is an instruction that describes a task....  \n2  Below is an instruction that describes a task....  \n3  Below is an instruction that describes a task....  \n4  Below is an instruction that describes a task....  ",
      "text/html": "<div>\n<style scoped>\n    .dataframe tbody tr th:only-of-type {\n        vertical-align: middle;\n    }\n\n    .dataframe tbody tr th {\n        vertical-align: top;\n    }\n\n    .dataframe thead th {\n        text-align: right;\n    }\n</style>\n<table border=\"1\" class=\"dataframe\">\n  <thead>\n    <tr style=\"text-align: right;\">\n      <th></th>\n      <th>instruction</th>\n      <th>input</th>\n      <th>output</th>\n      <th>text</th>\n    </tr>\n  </thead>\n  <tbody>\n    <tr>\n      <th>0</th>\n      <td>Give three tips for staying healthy.</td>\n      <td></td>\n      <td>1.Eat a balanced diet and make sure to include...</td>\n      <td>Below is an instruction that describes a task....</td>\n    </tr>\n    <tr>\n      <th>1</th>\n      <td>What are the three primary colors?</td>\n      <td></td>\n      <td>The three primary colors are red, blue, and ye...</td>\n      <td>Below is an instruction that describes a task....</td>\n    </tr>\n    <tr>\n      <th>2</th>\n      <td>Describe the structure of an atom.</td>\n      <td></td>\n      <td>An atom is made up of a nucleus, which contain...</td>\n      <td>Below is an instruction that describes a task....</td>\n    </tr>\n    <tr>\n      <th>3</th>\n      <td>How can we reduce air pollution?</td>\n      <td></td>\n      <td>There are a number of ways to reduce air pollu...</td>\n      <td>Below is an instruction that describes a task....</td>\n    </tr>\n    <tr>\n      <th>4</th>\n      <td>Describe a time when you had to make a difficu...</td>\n      <td></td>\n      <td>I had to make a difficult decision when I was ...</td>\n      <td>Below is an instruction that describes a task....</td>\n    </tr>\n  </tbody>\n</table>\n</div>"
     },
     "execution_count": 12,
     "metadata": {},
     "output_type": "execute_result"
    }
   ],
   "source": [
    "# This is another way of transforming a dict to a pandas df\n",
    "pandas_format = train_dataset.to_pandas()\n",
    "pandas_format.head()"
   ],
   "metadata": {
    "collapsed": false
   }
  },
  {
   "cell_type": "markdown",
   "source": [],
   "metadata": {
    "collapsed": false
   }
  },
  {
   "cell_type": "code",
   "execution_count": 11,
   "outputs": [
    {
     "data": {
      "text/plain": "                                         instruction input  \\\n0               Give three tips for staying healthy.         \n1                 What are the three primary colors?         \n2                 Describe the structure of an atom.         \n3                   How can we reduce air pollution?         \n4  Describe a time when you had to make a difficu...         \n\n                                              output  \\\n0  1.Eat a balanced diet and make sure to include...   \n1  The three primary colors are red, blue, and ye...   \n2  An atom is made up of a nucleus, which contain...   \n3  There are a number of ways to reduce air pollu...   \n4  I had to make a difficult decision when I was ...   \n\n                                                text  \n0  Below is an instruction that describes a task....  \n1  Below is an instruction that describes a task....  \n2  Below is an instruction that describes a task....  \n3  Below is an instruction that describes a task....  \n4  Below is an instruction that describes a task....  ",
      "text/html": "<div>\n<style scoped>\n    .dataframe tbody tr th:only-of-type {\n        vertical-align: middle;\n    }\n\n    .dataframe tbody tr th {\n        vertical-align: top;\n    }\n\n    .dataframe thead th {\n        text-align: right;\n    }\n</style>\n<table border=\"1\" class=\"dataframe\">\n  <thead>\n    <tr style=\"text-align: right;\">\n      <th></th>\n      <th>instruction</th>\n      <th>input</th>\n      <th>output</th>\n      <th>text</th>\n    </tr>\n  </thead>\n  <tbody>\n    <tr>\n      <th>0</th>\n      <td>Give three tips for staying healthy.</td>\n      <td></td>\n      <td>1.Eat a balanced diet and make sure to include...</td>\n      <td>Below is an instruction that describes a task....</td>\n    </tr>\n    <tr>\n      <th>1</th>\n      <td>What are the three primary colors?</td>\n      <td></td>\n      <td>The three primary colors are red, blue, and ye...</td>\n      <td>Below is an instruction that describes a task....</td>\n    </tr>\n    <tr>\n      <th>2</th>\n      <td>Describe the structure of an atom.</td>\n      <td></td>\n      <td>An atom is made up of a nucleus, which contain...</td>\n      <td>Below is an instruction that describes a task....</td>\n    </tr>\n    <tr>\n      <th>3</th>\n      <td>How can we reduce air pollution?</td>\n      <td></td>\n      <td>There are a number of ways to reduce air pollu...</td>\n      <td>Below is an instruction that describes a task....</td>\n    </tr>\n    <tr>\n      <th>4</th>\n      <td>Describe a time when you had to make a difficu...</td>\n      <td></td>\n      <td>I had to make a difficult decision when I was ...</td>\n      <td>Below is an instruction that describes a task....</td>\n    </tr>\n  </tbody>\n</table>\n</div>"
     },
     "execution_count": 11,
     "metadata": {},
     "output_type": "execute_result"
    }
   ],
   "source": [
    "# This can also be used, but may not work sometimes\n",
    "# df = pd.DataFrame(train_dataset)\n",
    "# df.head()"
   ],
   "metadata": {
    "collapsed": false
   }
  },
  {
   "cell_type": "code",
   "execution_count": 15,
   "outputs": [
    {
     "name": "stdout",
     "output_type": "stream",
     "text": [
      "---------------------------------------------\n",
      "Instruction: Give three tips for staying healthy.\n",
      "Output: 1.Eat a balanced diet and make sure to include\n",
      "plenty of fruits and vegetables.  2. Exercise\n",
      "regularly to keep your body active and strong.  3.\n",
      "Get enough sleep and maintain a consistent sleep\n",
      "schedule.\n",
      "Text: Below is an instruction that describes a task.\n",
      "Write a response that appropriately completes the\n",
      "request.  ### Instruction: Give three tips for\n",
      "staying healthy.  ### Response: 1.Eat a balanced\n",
      "diet and make sure to include plenty of fruits and\n",
      "vegetables.  2. Exercise regularly to keep your\n",
      "body active and strong.  3. Get enough sleep and\n",
      "maintain a consistent sleep schedule.\n",
      "---------------------------------------------\n",
      "Instruction: What are the three primary colors?\n",
      "Output: The three primary colors are red, blue, and\n",
      "yellow.\n",
      "Text: Below is an instruction that describes a task.\n",
      "Write a response that appropriately completes the\n",
      "request.  ### Instruction: What are the three\n",
      "primary colors?  ### Response: The three primary\n",
      "colors are red, blue, and yellow.\n",
      "---------------------------------------------\n",
      "Instruction: Describe the structure of an atom.\n",
      "Output: An atom is made up of a nucleus, which contains\n",
      "protons and neutrons, surrounded by electrons that\n",
      "travel in orbits around the nucleus. The protons\n",
      "and neutrons have a positive charge, while the\n",
      "electrons have a negative charge, resulting in an\n",
      "overall neutral atom. The number of each particle\n",
      "determines the atomic number and the type of atom.\n",
      "Text: Below is an instruction that describes a task.\n",
      "Write a response that appropriately completes the\n",
      "request.  ### Instruction: Describe the structure\n",
      "of an atom.  ### Response: An atom is made up of a\n",
      "nucleus, which contains protons and neutrons,\n",
      "surrounded by electrons that travel in orbits\n",
      "around the nucleus. The protons and neutrons have\n",
      "a positive charge, while the electrons have a\n",
      "negative charge, resulting in an overall neutral\n",
      "atom. The number of each particle determines the\n",
      "atomic number and the type of atom.\n"
     ]
    }
   ],
   "source": [
    "# Assuming pandas_format is a DataFrame with columns \"instruction\", \"output\", and \"text\"\n",
    "\n",
    "for index in range(3):\n",
    "    print(\"---\"*15)\n",
    "    print(\"Instruction: {}\".format(textwrap.fill(pandas_format.iloc[index][\"instruction\"], width=50)))\n",
    "    print(\"Output: {}\".format(textwrap.fill(pandas_format.iloc[index][\"output\"], width=50)))\n",
    "    print(\"Text: {}\".format(textwrap.fill(pandas_format.iloc[index][\"text\"], width=50)))\n"
   ],
   "metadata": {
    "collapsed": false
   }
  },
  {
   "cell_type": "code",
   "execution_count": null,
   "outputs": [],
   "source": [
    "# Pre-trained Model: We will use the pre-trained model Salesforce/xgen-7b-8k-base, which is available on Hugging Face. Salesforce trained this series of 7B LLMs named XGen-7B with standard dense attention on up to 8K sequences for up to 1.5T tokens.\n",
    "# Tokenizer: This is needed for tokenization tasks on the training data. The code to load the pre-trained model and tokenizer is as follows:\n",
    "\n",
    "pretrained_model_name = \"Salesforce/xgen-7b-8k-base\"\n",
    "model = AutoModelForCausalLM.from_pretrained(pretrained_model_name, torch_dtype=torch.bfloat16)\n",
    "tokenizer = AutoTokenizer.from_pretrained(pretrained_model_name, trust_remote_code=True)"
   ],
   "metadata": {
    "collapsed": false
   }
  },
  {
   "cell_type": "code",
   "execution_count": null,
   "outputs": [],
   "source": [],
   "metadata": {
    "collapsed": false
   }
  }
 ],
 "metadata": {
  "kernelspec": {
   "display_name": "Python 3",
   "language": "python",
   "name": "python3"
  },
  "language_info": {
   "codemirror_mode": {
    "name": "ipython",
    "version": 2
   },
   "file_extension": ".py",
   "mimetype": "text/x-python",
   "name": "python",
   "nbconvert_exporter": "python",
   "pygments_lexer": "ipython2",
   "version": "2.7.6"
  }
 },
 "nbformat": 4,
 "nbformat_minor": 0
}
